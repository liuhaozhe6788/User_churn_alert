{
 "cells": [
  {
   "cell_type": "markdown",
   "id": "5572a7b6",
   "metadata": {},
   "source": [
    "# 特征选择"
   ]
  },
  {
   "cell_type": "markdown",
   "id": "dae892ef",
   "metadata": {},
   "source": [
    "## 计算特征之间的相关系数"
   ]
  },
  {
   "cell_type": "code",
   "execution_count": 1,
   "id": "40f4461f",
   "metadata": {},
   "outputs": [],
   "source": [
    "import os\n",
    "import pandas as pd\n",
    "import numpy as np\n",
    "import seaborn as sns\n",
    "import matplotlib.pyplot as plt\n",
    "import feather\n",
    "import shutil\n",
    "%matplotlib inline"
   ]
  },
  {
   "cell_type": "code",
   "execution_count": 2,
   "id": "5fe16743",
   "metadata": {},
   "outputs": [],
   "source": [
    "data_path = \"/home/liuhaozhe/SourceCode/PycharmProjects/User_churn_alert-main/data\"\n",
    "img_path = \"/home/liuhaozhe/SourceCode/PycharmProjects/User_churn_alert-main/img\"\n",
    "os.chdir(data_path)\n",
    "if os.path.exists(img_path):\n",
    "    shutil.rmtree(img_path)\n",
    "    os.mkdir(img_path)"
   ]
  },
  {
   "cell_type": "code",
   "execution_count": 3,
   "id": "f1f3599e",
   "metadata": {},
   "outputs": [
    {
     "data": {
      "text/plain": [
       "((755155, 226), (323639, 226))"
      ]
     },
     "execution_count": 3,
     "metadata": {},
     "output_type": "execute_result"
    }
   ],
   "source": [
    "X_train = feather.read_dataframe(\"X_train_cleaned.feather\")\n",
    "X_test = feather.read_dataframe(\"X_test_cleaned.feather\")\n",
    "y_train = feather.read_dataframe(\"y_train_cleaned.feather\")\n",
    "y_test = feather.read_dataframe(\"y_test_cleaned.feather\")\n",
    "X_train.shape, X_test.shape"
   ]
  },
  {
   "cell_type": "code",
   "execution_count": 4,
   "id": "02e4a73f",
   "metadata": {},
   "outputs": [],
   "source": [
    "sns.set(rc={'axes.facecolor':'white', 'figure.facecolor':'white'})"
   ]
  },
  {
   "cell_type": "code",
   "execution_count": 5,
   "id": "f396921d",
   "metadata": {},
   "outputs": [],
   "source": [
    "def plot_corr(corr_, fig_name):\n",
    "    fig, ax = plt.subplots()\n",
    "    fig.set_size_inches(30, 30)\n",
    "    sns.heatmap(corr_, vmin=0, vmax=1)\n",
    "    plt. savefig(os.path.join(img_path, f\"{fig_name}.png\"), dpi=300)"
   ]
  },
  {
   "cell_type": "code",
   "execution_count": 6,
   "id": "acad4e7f",
   "metadata": {},
   "outputs": [],
   "source": [
    "corr = X_train.corr().abs()\n",
    "# plot_corr(corr, \"corr_all\")"
   ]
  },
  {
   "cell_type": "code",
   "execution_count": 7,
   "id": "e4b20e73",
   "metadata": {},
   "outputs": [],
   "source": [
    "corr_all = corr.copy()"
   ]
  },
  {
   "cell_type": "markdown",
   "id": "a37bb676",
   "metadata": {},
   "source": [
    "将特征分为内部相关的几个特征群体，再对每个特征群体使用随机森林分类，得到一个特征群体中所有特征的重要性，并筛选丢弃重要性低的特征，并且将上述过程不断迭代"
   ]
  },
  {
   "cell_type": "code",
   "execution_count": 8,
   "id": "c00b76cf",
   "metadata": {},
   "outputs": [],
   "source": [
    "corr = corr.unstack()\n",
    "corr = corr.sort_values(ascending=False)\n",
    "corr = pd.DataFrame(corr).reset_index()\n",
    "corr.columns = ['feat1', 'feat2', 'corr']"
   ]
  },
  {
   "cell_type": "code",
   "execution_count": 9,
   "id": "0e60d933",
   "metadata": {},
   "outputs": [],
   "source": [
    "from sklearn.ensemble import RandomForestClassifier\n",
    "from sklearn.feature_selection import SelectFromModel\n",
    "from itertools import compress"
   ]
  },
  {
   "cell_type": "code",
   "execution_count": 10,
   "id": "607a46cb",
   "metadata": {},
   "outputs": [],
   "source": [
    "dropped_feats = []  # 丢弃的特征，每个loop会不断增加\n",
    "selected_feats = list(X_train.columns)  # 被选择的特征，每个loop会不断减少\n",
    "thres = 0.9"
   ]
  },
  {
   "cell_type": "code",
   "execution_count": 11,
   "id": "efccb212",
   "metadata": {},
   "outputs": [
    {
     "name": "stdout",
     "output_type": "stream",
     "text": [
      "被选择的特征个数为175, 被丢弃的特征个数为51\n",
      "被选择的特征个数为153, 被丢弃的特征个数为73\n",
      "被选择的特征个数为144, 被丢弃的特征个数为82\n",
      "被选择的特征个数为132, 被丢弃的特征个数为94\n",
      "被选择的特征个数为121, 被丢弃的特征个数为105\n",
      "被选择的特征个数为111, 被丢弃的特征个数为115\n",
      "被选择的特征个数为102, 被丢弃的特征个数为124\n",
      "被选择的特征个数为95, 被丢弃的特征个数为131\n",
      "被选择的特征个数为92, 被丢弃的特征个数为134\n",
      "被选择的特征个数为85, 被丢弃的特征个数为141\n",
      "被选择的特征个数为78, 被丢弃的特征个数为148\n",
      "被选择的特征个数为73, 被丢弃的特征个数为153\n",
      "被选择的特征个数为72, 被丢弃的特征个数为154\n",
      "被选择的特征个数为70, 被丢弃的特征个数为156\n",
      "被选择的特征个数为66, 被丢弃的特征个数为160\n",
      "被选择的特征个数为62, 被丢弃的特征个数为164\n",
      "被选择的特征个数为61, 被丢弃的特征个数为165\n",
      "被选择的特征个数为57, 被丢弃的特征个数为169\n",
      "被选择的特征个数为53, 被丢弃的特征个数为173\n",
      "被选择的特征个数为52, 被丢弃的特征个数为174\n",
      "被选择的特征个数为50, 被丢弃的特征个数为176\n",
      "被选择的特征个数为50, 被丢弃的特征个数为176\n",
      "被选择的特征个数为48, 被丢弃的特征个数为178\n",
      "被选择的特征个数为46, 被丢弃的特征个数为180\n",
      "被选择的特征个数为44, 被丢弃的特征个数为182\n",
      "被选择的特征个数为42, 被丢弃的特征个数为184\n",
      "被选择的特征个数为39, 被丢弃的特征个数为187\n",
      "被选择的特征个数为39, 被丢弃的特征个数为187\n",
      "被选择的特征个数为39, 被丢弃的特征个数为187\n",
      "被选择的特征个数为37, 被丢弃的特征个数为189\n",
      "被选择的特征个数为34, 被丢弃的特征个数为192\n",
      "被选择的特征个数为34, 被丢弃的特征个数为192\n",
      "被选择的特征个数为33, 被丢弃的特征个数为193\n",
      "被选择的特征个数为32, 被丢弃的特征个数为194\n",
      "被选择的特征个数为31, 被丢弃的特征个数为195\n",
      "被选择的特征个数为28, 被丢弃的特征个数为198\n"
     ]
    }
   ],
   "source": [
    "for loop in range(100):\n",
    "    corr_temp = corr.copy()\n",
    "    corr_temp = corr_temp[corr_temp[\"corr\"] < 1]\n",
    "    corr_temp = corr_temp[corr_temp[\"corr\"] >= thres]\n",
    "    \n",
    "    grouped_feats = []  # buffer\n",
    "    corr_groups = []  # buffer\n",
    "\n",
    "    i = 0  # 作为存储heatmap的图片名字\n",
    "\n",
    "    for feat in corr_temp.feat1.unique():\n",
    "        if feat not in grouped_feats:\n",
    "            i += 1\n",
    "            corr_block = corr_temp[(corr_temp.feat1 == feat)]\n",
    "\n",
    "            # 绘制一个特征群体内，不同特征之间的相关系数heatmap\n",
    "    #         plot_corr(corr_all.loc[list(corr_block.feat2.unique()) + [feat], list(corr_block.feat2.unique()) + [feat]].abs(), f\"lvl1_{i}\")\n",
    "            grouped_feats += list(corr_block.feat2.unique()) + [feat]  # 累加已经属于某个特征相关群体的特征 \n",
    "\n",
    "            corr_groups.append(corr_block)  # 增加该特征群体，用于后续使用随机森林分类，对该群体的特征进行筛选\n",
    "\n",
    "\n",
    "    for group in corr_groups:\n",
    "        feats = list(group.feat1.unique()) + list(group.feat2.unique())\n",
    "    #     print(f\"最初的特征：{feats}\")\n",
    "        rfc_sel = SelectFromModel(RandomForestClassifier(n_estimators=20, random_state=1, max_depth=4))\n",
    "        rfc_sel.fit(X_train[feats], y_train.values.ravel())\n",
    "\n",
    "        rfc_sel_support = np.array(rfc_sel.get_support())  # 得到特征筛选的bool序列\n",
    "        dropped_feats += list(compress(feats, ~rfc_sel_support))  # 增加丢弃的特征\n",
    "    #     print(f\"筛选的特征：{list(compress(feats, rfc_sel_support))}\")\n",
    "    \n",
    "    dropped_feats = list(set(dropped_feats))  # 去掉重复的特征\n",
    "    selected_feats = [i for i in selected_feats if i not in dropped_feats]  # selected_feats中去掉丢弃的特征\n",
    "\n",
    "    # 更新corr，过滤掉被丢弃特征的所有相关系数\n",
    "    corr = corr[corr[\"feat1\"].isin(selected_feats) & corr[\"feat2\"].isin(selected_feats)]\n",
    "\n",
    "    thres *= 0.99\n",
    "    print(f\"被选择的特征个数为{len(selected_feats)}, 被丢弃的特征个数为{len(dropped_feats)}\")\n",
    "    if len(selected_feats) <= 40:\n",
    "        break"
   ]
  },
  {
   "cell_type": "code",
   "execution_count": 12,
   "id": "b94e8d8c",
   "metadata": {},
   "outputs": [],
   "source": [
    "# rfc = RandomForestClassifier(n_estimators=20, random_state=1, max_depth=10)\n",
    "# rfc.fit(X_train[selected_feats], y_train.values.ravel())\n",
    "\n",
    "\n",
    "# importance = pd.concat([pd.Series(selected_feats), pd.Series(rfc.feature_importances_)], axis=1)\n",
    "# importance.columns = ['feature', 'importance']\n",
    "# importance.sort_values(by='importance', ascending=False)"
   ]
  },
  {
   "cell_type": "code",
   "execution_count": 13,
   "id": "772f10d6",
   "metadata": {},
   "outputs": [],
   "source": [
    "# list(importance.sort_values(by='importance', ascending=False)[\"feature\"])[: 30]"
   ]
  },
  {
   "cell_type": "code",
   "execution_count": 14,
   "id": "b7c2cdea",
   "metadata": {},
   "outputs": [
    {
     "data": {
      "text/plain": [
       "['life_time',\n",
       " 'is_latest_version',\n",
       " 'is_visitor',\n",
       " 'cash_subgrade',\n",
       " 'is_bought',\n",
       " 'login_cnt_30d',\n",
       " 'is_newbie_bundle_buyer_30d',\n",
       " 'battle_pass_ads_watch_cnt',\n",
       " 'chip_consume_7d',\n",
       " 'chip_consume_rate_7d',\n",
       " 'diamond_consume_rate_7d',\n",
       " 'bandit_cnt_30d',\n",
       " 'all_in_rate_3d',\n",
       " 'register_country_arpu',\n",
       " 'click_unpay_30d',\n",
       " 'pay_time_interval_mean_180d',\n",
       " 'win_per100',\n",
       " 'sblind',\n",
       " 'login_time_hour_list_30d_std',\n",
       " 'register_time_month',\n",
       " 'register_time_minute',\n",
       " 'register_time_second',\n",
       " 'last_login_minute',\n",
       " 'last_login_second',\n",
       " 'last_bankrupt_minute',\n",
       " 'first_rank_time_minute',\n",
       " 'login_time_minute',\n",
       " 'login_time_second']"
      ]
     },
     "execution_count": 14,
     "metadata": {},
     "output_type": "execute_result"
    }
   ],
   "source": [
    "selected_feats"
   ]
  },
  {
   "cell_type": "code",
   "execution_count": null,
   "id": "bfcc10c8",
   "metadata": {},
   "outputs": [],
   "source": []
  }
 ],
 "metadata": {
  "kernelspec": {
   "display_name": "Python [conda env:tf-gpu]",
   "language": "python",
   "name": "conda-env-tf-gpu-py"
  },
  "language_info": {
   "codemirror_mode": {
    "name": "ipython",
    "version": 3
   },
   "file_extension": ".py",
   "mimetype": "text/x-python",
   "name": "python",
   "nbconvert_exporter": "python",
   "pygments_lexer": "ipython3",
   "version": "3.9.11"
  }
 },
 "nbformat": 4,
 "nbformat_minor": 5
}
