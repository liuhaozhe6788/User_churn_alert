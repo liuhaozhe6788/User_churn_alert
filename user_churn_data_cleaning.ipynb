{
 "cells": [
  {
   "cell_type": "code",
   "execution_count": 1,
   "id": "509172f7",
   "metadata": {},
   "outputs": [],
   "source": [
    "import pandas as pd\n",
    "import os"
   ]
  },
  {
   "cell_type": "code",
   "execution_count": 2,
   "id": "43b21bc1",
   "metadata": {},
   "outputs": [],
   "source": [
    "data_path = \"/home/liuhaozhe/SourceCode/PycharmProjects/User_churn_alert-main/data\"\n",
    "os.chdir(data_path)"
   ]
  },
  {
   "cell_type": "code",
   "execution_count": 3,
   "id": "6fc5d2e7",
   "metadata": {},
   "outputs": [],
   "source": [
    "files = [f for f in os.listdir() if f.endswith(\".csv\")]"
   ]
  },
  {
   "cell_type": "code",
   "execution_count": 4,
   "id": "efbbbfe1",
   "metadata": {},
   "outputs": [
    {
     "name": "stderr",
     "output_type": "stream",
     "text": [
      "/tmp/ipykernel_2784/3075625428.py:3: DtypeWarning: Columns (162,164,165,166,167,169,170,219,241,243,244,245,246,247,248,249,250,251,252,253,254,255) have mixed types. Specify dtype option on import or set low_memory=False.\n",
      "  temp = pd.read_csv(i, sep=\"|\")\n",
      "/tmp/ipykernel_2784/3075625428.py:3: DtypeWarning: Columns (162,164,165,166,167,169,170,219,243,244,245,246,247,248,249,250,251,252,253,254,255) have mixed types. Specify dtype option on import or set low_memory=False.\n",
      "  temp = pd.read_csv(i, sep=\"|\")\n",
      "/tmp/ipykernel_2784/3075625428.py:3: DtypeWarning: Columns (219,243,244,245,246,247,248,249,250,251,252,253,254,255) have mixed types. Specify dtype option on import or set low_memory=False.\n",
      "  temp = pd.read_csv(i, sep=\"|\")\n",
      "/tmp/ipykernel_2784/3075625428.py:3: DtypeWarning: Columns (245,246,247,250,251,252,253,254,255) have mixed types. Specify dtype option on import or set low_memory=False.\n",
      "  temp = pd.read_csv(i, sep=\"|\")\n",
      "/tmp/ipykernel_2784/3075625428.py:3: DtypeWarning: Columns (219,243,244,245,246,247,248,249,250,251,252,253,254,255) have mixed types. Specify dtype option on import or set low_memory=False.\n",
      "  temp = pd.read_csv(i, sep=\"|\")\n",
      "/tmp/ipykernel_2784/3075625428.py:3: DtypeWarning: Columns (162,164,165,166,167,169,170,245,246,247,250,251,252,253,254,255) have mixed types. Specify dtype option on import or set low_memory=False.\n",
      "  temp = pd.read_csv(i, sep=\"|\")\n",
      "/tmp/ipykernel_2784/3075625428.py:3: DtypeWarning: Columns (219,243,244,245,246,247,248,249,250,251,252,253,254,255) have mixed types. Specify dtype option on import or set low_memory=False.\n",
      "  temp = pd.read_csv(i, sep=\"|\")\n",
      "/tmp/ipykernel_2784/3075625428.py:3: DtypeWarning: Columns (162,164,165,166,167,169,170,219,241,243,244,245,246,247,248,249,250,251,252,253,254,255) have mixed types. Specify dtype option on import or set low_memory=False.\n",
      "  temp = pd.read_csv(i, sep=\"|\")\n",
      "/tmp/ipykernel_2784/3075625428.py:3: DtypeWarning: Columns (162,164,165,166,167,168,169,170,193,196,215,219,241,242,243,244,245,246,247,248,249,250,251,252,253,254,255) have mixed types. Specify dtype option on import or set low_memory=False.\n",
      "  temp = pd.read_csv(i, sep=\"|\")\n",
      "/tmp/ipykernel_2784/3075625428.py:3: DtypeWarning: Columns (219,243,244,245,246,247,248,249,250,251,252,253,254,255) have mixed types. Specify dtype option on import or set low_memory=False.\n",
      "  temp = pd.read_csv(i, sep=\"|\")\n"
     ]
    }
   ],
   "source": [
    "data = None\n",
    "for i in files:\n",
    "    temp = pd.read_csv(i, sep=\"|\")\n",
    "    temp = temp.sample(frac=0.3)\n",
    "    data = pd.concat([data, temp], ignore_index=True)"
   ]
  },
  {
   "cell_type": "code",
   "execution_count": 5,
   "id": "dacee429",
   "metadata": {},
   "outputs": [
    {
     "data": {
      "text/plain": [
       "(1153834, 268)"
      ]
     },
     "execution_count": 5,
     "metadata": {},
     "output_type": "execute_result"
    }
   ],
   "source": [
    "data.shape"
   ]
  },
  {
   "cell_type": "markdown",
   "id": "6f625e87",
   "metadata": {},
   "source": [
    "# 数据清洗"
   ]
  },
  {
   "cell_type": "markdown",
   "id": "a9826a8f",
   "metadata": {},
   "source": [
    "## 去掉缺失数据记录"
   ]
  },
  {
   "cell_type": "code",
   "execution_count": 6,
   "id": "20cd6ae6",
   "metadata": {},
   "outputs": [],
   "source": [
    "data = data.dropna(subset=[\"uid\", \"is_churned\"], axis=0)"
   ]
  },
  {
   "cell_type": "code",
   "execution_count": 7,
   "id": "4e12d8a5",
   "metadata": {},
   "outputs": [],
   "source": [
    "non_numeric_feats = [feat for feat in data.columns if data.dtypes[feat] not in [\"int64\", \"float64\"]]"
   ]
  },
  {
   "cell_type": "code",
   "execution_count": 8,
   "id": "fb73ca72",
   "metadata": {},
   "outputs": [],
   "source": [
    "dropped_feats = ['first_pay_time',  # 无法处理缺省值\n",
    " 'uid',\n",
    " 'product_id',\n",
    " 'last_piggy_bank_bundle_id',\n",
    " 'last_pay_bundle_id',\n",
    " 'last_period_bundle_id',\n",
    " 'last_three_stage_bundle_id',\n",
    " 'last_lottery_bundle_id',\n",
    " 'last_bankrupt_bundle_id',  # 所有ID都无数值大小意义\n",
    " 'pay_piggy_bank_bundle_id_list_30d',\n",
    " 'pay_piggy_bank_bundle_id_time_dict_30d',\n",
    " 'pay_piggy_bank_bundle_time_list_recent5_180d',\n",
    " 'pay_piggy_bank_bundle_time_list_30d',\n",
    " 'pay_piggy_bank_bundle_time_interval_list_recent5_180d',\n",
    " 'pay_piggy_bank_bundle_time_interval_list_30d',\n",
    " 'pay_amt_list_recent5_180d',\n",
    " 'pay_piggy_bank_bundle_amt_list_recent5_180d',\n",
    " 'pay_piggy_bank_bundle_amt_list_30d',\n",
    " 'pay_bundle_id_list_30d',\n",
    " 'pay_amt_list_30d',\n",
    " 'recommend_piggy_bank_bundle_id_cnt_dict_30d',\n",
    " 'recommend_unpay_piggy_bank_bundle_id_cnt_dict_30d',\n",
    " 'recommend_piggy_bank_bundle_id_time_dict_30d',\n",
    " 'recommend_piggy_bank_bundle_id_list_recent10_90d',\n",
    " 'pay_bankrupt_bundle_id_list_30d',\n",
    " 'recommend_unpay_period_bundle_id_cnt_dict_30d',\n",
    " 'recommend_unpay_three_stage_bundle_id_cnt_dict_30d',\n",
    " 'recommend_unpay_lottery_bundle_id_cnt_dict_30d',\n",
    " 'recommend_unpay_bankrupt_bundle_id_cnt_dict_30d',\n",
    " 'pay_bankrupt_id_time_dict_30d',\n",
    " 'pay_period_id_time_dict_30d',\n",
    " 'pay_three_stage_id_time_dict_30d',\n",
    " 'pay_lottery_id_time_dict_30d',\n",
    " 'recommend_bankrupt_bundle_id_list_recent10_90d',\n",
    " 'recommend_period_id_list_recent10_90d',\n",
    " 'recommend_three_stage_bundle_id_list_recent10_90d',\n",
    " 'recommend_lottery_bundle_id_list_recent10_90d',\n",
    " 'pay_bankrupt_bundle_time_list_30d',\n",
    " 'pay_bankrupt_bundle_time_interval_list_30d',\n",
    " 'pay_period_bundle_time_interval_list_30d',\n",
    " 'pay_three_stage_bundle_time_interval_list_30d',\n",
    " 'pay_lottery_bundle_time_interval_list_30d',\n",
    " 'pay_bankrupt_bundle_amt_list_recent5_180d',\n",
    " 'pay_bankrupt_bundle_amt_list_30d',\n",
    " 'pay_period_bundle_amt_list_30d',\n",
    " 'pay_three_stage_bundle_amt_list_30d',\n",
    " 'pay_lottery_bundle_amt_list_30d',\n",
    " 'pay_period_bundle_id_list_30d',\n",
    " 'pay_three_stage_bundle_id_list_30d',\n",
    " 'pay_lottery_bundle_id_list_30d'\n",
    "]"
   ]
  },
  {
   "cell_type": "markdown",
   "id": "f799de96",
   "metadata": {},
   "source": [
    "## 丢弃无法处理的序列和无大小含义的数值特征"
   ]
  },
  {
   "cell_type": "code",
   "execution_count": 9,
   "id": "51dbdc7a",
   "metadata": {},
   "outputs": [],
   "source": [
    "data = data.drop(labels=dropped_feats, axis=1)"
   ]
  },
  {
   "cell_type": "markdown",
   "id": "17cb1273",
   "metadata": {},
   "source": [
    "## 寻找并丢弃都是缺失值的特征和丢弃含有缺失值的记录"
   ]
  },
  {
   "cell_type": "code",
   "execution_count": 10,
   "id": "9b4cc464",
   "metadata": {
    "scrolled": true
   },
   "outputs": [
    {
     "name": "stdout",
     "output_type": "stream",
     "text": [
      "['register_country', 'device', 'country', 'login_time_hour_list_7d', 'login_time_hour_list_30d', 'login_time_list_7d', 'login_time_list_30d']\n"
     ]
    }
   ],
   "source": [
    "print(data.columns[data.isna().any()].to_list())"
   ]
  },
  {
   "cell_type": "code",
   "execution_count": 11,
   "id": "4d559b66",
   "metadata": {
    "scrolled": true
   },
   "outputs": [
    {
     "name": "stdout",
     "output_type": "stream",
     "text": [
      "去掉特征register_country的缺失值后,\n",
      "           剩余记录条数为:1152970,\n",
      "           缺失率为0.000748807887443026\n",
      "去掉特征device的缺失值后,\n",
      "           剩余记录条数为:0,\n",
      "           缺失率为1.0\n",
      "去掉特征country的缺失值后,\n",
      "           剩余记录条数为:1153825,\n",
      "           缺失率为7.800082160835942e-06\n",
      "去掉特征login_time_hour_list_7d的缺失值后,\n",
      "           剩余记录条数为:1079889,\n",
      "           缺失率为0.06408634170946603\n",
      "去掉特征login_time_hour_list_30d的缺失值后,\n",
      "           剩余记录条数为:1119113,\n",
      "           缺失率为0.030091850300823175\n",
      "去掉特征login_time_list_7d的缺失值后,\n",
      "           剩余记录条数为:1080967,\n",
      "           缺失率为0.06315206520175343\n",
      "去掉特征login_time_list_30d的缺失值后,\n",
      "           剩余记录条数为:1119787,\n",
      "           缺失率为0.029507710814553945\n"
     ]
    }
   ],
   "source": [
    "for i in data.columns[data.isna().any()].to_list():\n",
    "    print(f\"去掉特征{i}的缺失值后,\\n \\\n",
    "          剩余记录条数为:{data.dropna(subset=[i], axis=0).shape[0]},\\n \\\n",
    "          缺失率为{1 - data.dropna(subset=[i], axis=0).shape[0]/data.shape[0]}\")"
   ]
  },
  {
   "cell_type": "code",
   "execution_count": 12,
   "id": "7d6bb34f",
   "metadata": {},
   "outputs": [],
   "source": [
    "data = data.drop(columns=[\"device\"])"
   ]
  },
  {
   "cell_type": "code",
   "execution_count": 13,
   "id": "fc67203b",
   "metadata": {},
   "outputs": [],
   "source": [
    "data = data.dropna(axis=0)"
   ]
  },
  {
   "cell_type": "code",
   "execution_count": 14,
   "id": "639ca85c",
   "metadata": {
    "scrolled": true
   },
   "outputs": [],
   "source": [
    "non_numeric_feats = [feat for feat in non_numeric_feats if feat not in dropped_feats]"
   ]
  },
  {
   "cell_type": "markdown",
   "id": "f89f16a4",
   "metadata": {},
   "source": [
    "## 将多类的字符串特征丢弃"
   ]
  },
  {
   "cell_type": "code",
   "execution_count": 15,
   "id": "9e401908",
   "metadata": {},
   "outputs": [],
   "source": [
    "vars_categorical = ['register_os', 'register_country', 'version', \n",
    "                    'device_brand','os', 'country']"
   ]
  },
  {
   "cell_type": "code",
   "execution_count": 16,
   "id": "f5432bf2",
   "metadata": {},
   "outputs": [
    {
     "name": "stdout",
     "output_type": "stream",
     "text": [
      "android    0.646774\n",
      "ios        0.353086\n",
      "\\N         0.000140\n",
      "Name: register_os, dtype: float64\n",
      "US    7.335319e-01\n",
      "GB    6.587997e-02\n",
      "CA    5.156602e-02\n",
      "FR    4.199279e-02\n",
      "AU    2.860567e-02\n",
      "          ...     \n",
      "LV    9.268296e-07\n",
      "ET    9.268296e-07\n",
      "AD    9.268296e-07\n",
      "NI    9.268296e-07\n",
      "CL    9.268296e-07\n",
      "Name: register_country, Length: 156, dtype: float64\n",
      "1.5.1    0.617345\n",
      "1.5.2    0.360730\n",
      "1.5.0    0.021055\n",
      "1.5.3    0.000730\n",
      "\\N       0.000140\n",
      "Name: version, dtype: float64\n",
      "30        0.234653\n",
      "15.3.1    0.225872\n",
      "31        0.169334\n",
      "29        0.126616\n",
      "28        0.067993\n",
      "            ...   \n",
      "12.4.9    0.000005\n",
      "11.0.2    0.000003\n",
      "10.2      0.000003\n",
      "11.2.2    0.000002\n",
      "12.5.2    0.000002\n",
      "Name: device_brand, Length: 88, dtype: float64\n",
      "android    0.642221\n",
      "ios        0.357779\n",
      "Name: os, dtype: float64\n",
      "US    7.325846e-01\n",
      "GB    6.540822e-02\n",
      "CA    5.074855e-02\n",
      "FR    4.154884e-02\n",
      "AU    2.855377e-02\n",
      "          ...     \n",
      "VC    9.268296e-07\n",
      "VG    9.268296e-07\n",
      "PY    9.268296e-07\n",
      "LY    9.268296e-07\n",
      "SD    9.268296e-07\n",
      "Name: country, Length: 169, dtype: float64\n"
     ]
    }
   ],
   "source": [
    "for i in vars_categorical:\n",
    "    print(data[i].value_counts()/len(data))"
   ]
  },
  {
   "cell_type": "code",
   "execution_count": 17,
   "id": "40ecf688",
   "metadata": {},
   "outputs": [],
   "source": [
    "data = data.drop(columns=['register_country', 'version', 'device_brand', 'country'])"
   ]
  },
  {
   "cell_type": "markdown",
   "id": "fdf2f760",
   "metadata": {},
   "source": [
    "## 将操作系统特征为\\N的行记录丢弃"
   ]
  },
  {
   "cell_type": "code",
   "execution_count": 18,
   "id": "979f07af",
   "metadata": {},
   "outputs": [],
   "source": [
    "data = data[(data['register_os'].isin([\"android\", \"ios\"])) & (data['os'].isin([\"android\", \"ios\"]))]"
   ]
  },
  {
   "cell_type": "markdown",
   "id": "a4c063ca",
   "metadata": {},
   "source": [
    "## 将字符特征转为二值"
   ]
  },
  {
   "cell_type": "code",
   "execution_count": 19,
   "id": "1a788242",
   "metadata": {},
   "outputs": [],
   "source": [
    "enc = {\n",
    "    'register_os':{\n",
    "        'android': 0,\n",
    "        'ios': 1\n",
    "    },\n",
    "    'os':{\n",
    "        'android': 0,\n",
    "        'ios': 1\n",
    "    }\n",
    "}"
   ]
  },
  {
   "cell_type": "code",
   "execution_count": 20,
   "id": "2313d148",
   "metadata": {},
   "outputs": [],
   "source": [
    "data = data.replace(enc)"
   ]
  },
  {
   "cell_type": "code",
   "execution_count": 21,
   "id": "a7001c0a",
   "metadata": {
    "scrolled": true
   },
   "outputs": [
    {
     "data": {
      "text/plain": [
       "['register_time',\n",
       " 'last_login',\n",
       " 'last_bankrupt',\n",
       " 'first_rank_time',\n",
       " 'login_time',\n",
       " 'login_time_hour_list_7d',\n",
       " 'login_time_hour_list_30d',\n",
       " 'login_time_list_7d',\n",
       " 'login_time_list_30d']"
      ]
     },
     "execution_count": 21,
     "metadata": {},
     "output_type": "execute_result"
    }
   ],
   "source": [
    "non_numeric_feats = [feat for feat in non_numeric_feats if feat not in vars_categorical]\n",
    "non_numeric_feats"
   ]
  },
  {
   "cell_type": "code",
   "execution_count": 22,
   "id": "40fb245e",
   "metadata": {},
   "outputs": [],
   "source": [
    "list_feats =  ['login_time_hour_list_7d',\n",
    " 'login_time_hour_list_30d',\n",
    " 'login_time_list_7d',\n",
    " 'login_time_list_30d'\n",
    "]"
   ]
  },
  {
   "cell_type": "markdown",
   "id": "2ab60ddc",
   "metadata": {},
   "source": [
    "## 将数值型列表转换为均值与标准差"
   ]
  },
  {
   "cell_type": "code",
   "execution_count": 23,
   "id": "d8b2a125",
   "metadata": {},
   "outputs": [],
   "source": [
    "import numpy as np"
   ]
  },
  {
   "cell_type": "code",
   "execution_count": 24,
   "id": "c14c99ef",
   "metadata": {},
   "outputs": [],
   "source": [
    "data[\"login_time_hour_list_7d_mean\"], data[\"login_time_hour_list_7d_std\"] = zip(*data.login_time_hour_list_7d.apply(lambda x: [np.mean(np.array([int(i) for i in x.split(\",\")])), np.std(np.array([int(i) for i in x.split(\",\")]))]))\n",
    "data[\"login_time_hour_list_30d_mean\"], data[\"login_time_hour_list_30d_std\"] = zip(*data.login_time_hour_list_30d.apply(lambda x: [np.mean(np.array([int(i) for i in x.split(\",\")])), np.std(np.array([int(i) for i in x.split(\",\")]))]))"
   ]
  },
  {
   "cell_type": "markdown",
   "id": "d2e56ded",
   "metadata": {},
   "source": [
    "## 将时间列表转换为列表的长度"
   ]
  },
  {
   "cell_type": "code",
   "execution_count": 25,
   "id": "d63ae635",
   "metadata": {},
   "outputs": [],
   "source": [
    "data[\"login_time_7d_cnt\"] = data.login_time_list_7d.apply(lambda x: len(x.split(\",\")))\n",
    "data[\"login_time_30d_cnt\"] = data.login_time_list_30d.apply(lambda x: len(x.split(\",\")))"
   ]
  },
  {
   "cell_type": "code",
   "execution_count": 26,
   "id": "35aa2c7f",
   "metadata": {},
   "outputs": [],
   "source": [
    "data = data.drop(columns=list_feats)"
   ]
  },
  {
   "cell_type": "code",
   "execution_count": 27,
   "id": "1f4a9d3f",
   "metadata": {},
   "outputs": [],
   "source": [
    "non_numeric_feats = [feat for feat in non_numeric_feats if feat not in list_feats]"
   ]
  },
  {
   "cell_type": "code",
   "execution_count": 28,
   "id": "25e68d53",
   "metadata": {},
   "outputs": [
    {
     "data": {
      "text/plain": [
       "['register_time',\n",
       " 'last_login',\n",
       " 'last_bankrupt',\n",
       " 'first_rank_time',\n",
       " 'login_time']"
      ]
     },
     "execution_count": 28,
     "metadata": {},
     "output_type": "execute_result"
    }
   ],
   "source": [
    "non_numeric_feats"
   ]
  },
  {
   "cell_type": "code",
   "execution_count": 29,
   "id": "f6978b95",
   "metadata": {},
   "outputs": [
    {
     "data": {
      "text/plain": [
       "(1078796, 215)"
      ]
     },
     "execution_count": 29,
     "metadata": {},
     "output_type": "execute_result"
    }
   ],
   "source": [
    "data.shape"
   ]
  },
  {
   "cell_type": "markdown",
   "id": "4f72169d",
   "metadata": {},
   "source": [
    "## 丢弃时间格式错误的特征数据记录"
   ]
  },
  {
   "cell_type": "code",
   "execution_count": 30,
   "id": "1873e973",
   "metadata": {
    "scrolled": true
   },
   "outputs": [
    {
     "data": {
      "text/plain": [
       "(1078794, 215)"
      ]
     },
     "execution_count": 30,
     "metadata": {},
     "output_type": "execute_result"
    }
   ],
   "source": [
    "for i in non_numeric_feats:\n",
    "    data = data[data[i].str.match('(\\d{4})-(\\d{2})-(\\d{2}) (\\d{2}):(\\d{2}):(\\d{2})')]\n",
    "    data = data[data[i].str.len() == len('0000-00-00 00:00:00')]\n",
    "data.shape"
   ]
  },
  {
   "cell_type": "markdown",
   "id": "8b85b26b",
   "metadata": {},
   "source": [
    "## 将时间改为年月日时分秒"
   ]
  },
  {
   "cell_type": "code",
   "execution_count": 31,
   "id": "b58d5045",
   "metadata": {},
   "outputs": [],
   "source": [
    "import time\n",
    "from datetime import datetime"
   ]
  },
  {
   "cell_type": "code",
   "execution_count": 32,
   "id": "21b7fb66",
   "metadata": {
    "scrolled": false
   },
   "outputs": [],
   "source": [
    "for i in non_numeric_feats:\n",
    "    data[f\"{i}_year\"], data[f\"{i}_month\"], data[f\"{i}_day\"], data[f\"{i}_hour\"], data[f\"{i}_minute\"], data[f\"{i}_second\"] = zip(*data[i].apply(lambda x: [datetime.strptime(x, '%Y-%m-%d %H:%M:%S').year,\n",
    "                                                                                                                                                       datetime.strptime(x, '%Y-%m-%d %H:%M:%S').month,\n",
    "                                                                                                                                                       datetime.strptime(x, '%Y-%m-%d %H:%M:%S').day,\n",
    "                                                                                                                                                       datetime.strptime(x, '%Y-%m-%d %H:%M:%S').hour,\n",
    "                                                                                                                                                       datetime.strptime(x, '%Y-%m-%d %H:%M:%S').minute,\n",
    "                                                                                                                                                       datetime.strptime(x, '%Y-%m-%d %H:%M:%S').second\n",
    "                                                                                                                                                   ]))\n"
   ]
  },
  {
   "cell_type": "code",
   "execution_count": 33,
   "id": "278823d9",
   "metadata": {},
   "outputs": [],
   "source": [
    "data = data.drop(columns=non_numeric_feats)"
   ]
  },
  {
   "cell_type": "code",
   "execution_count": 34,
   "id": "49f8dfa3",
   "metadata": {},
   "outputs": [
    {
     "data": {
      "text/plain": [
       "(1078794, 240)"
      ]
     },
     "execution_count": 34,
     "metadata": {},
     "output_type": "execute_result"
    }
   ],
   "source": [
    "data.shape"
   ]
  },
  {
   "cell_type": "code",
   "execution_count": 35,
   "id": "dde9a169",
   "metadata": {},
   "outputs": [],
   "source": [
    "from sklearn.model_selection import train_test_split\n",
    "from sklearn.feature_selection import VarianceThreshold"
   ]
  },
  {
   "cell_type": "code",
   "execution_count": 36,
   "id": "59d7f72f",
   "metadata": {},
   "outputs": [],
   "source": [
    "# train_test_split\n",
    "X_train, X_test, y_train, y_test = train_test_split(data.drop(labels=\"is_churned\", axis=1), data[\"is_churned\"], test_size=0.3, random_state=0)"
   ]
  },
  {
   "cell_type": "code",
   "execution_count": 37,
   "id": "c9c5aa73",
   "metadata": {},
   "outputs": [
    {
     "data": {
      "text/plain": [
       "((755155, 239), (323639, 239))"
      ]
     },
     "execution_count": 37,
     "metadata": {},
     "output_type": "execute_result"
    }
   ],
   "source": [
    "X_train.shape, X_test.shape"
   ]
  },
  {
   "cell_type": "markdown",
   "id": "c15660a2",
   "metadata": {},
   "source": [
    "## 去掉常量特征和变化极小的特征"
   ]
  },
  {
   "cell_type": "code",
   "execution_count": 38,
   "id": "cd4da7ed",
   "metadata": {},
   "outputs": [],
   "source": [
    "constant_feats = [feat for feat in X_train.columns if X_train[feat].std() == 0]"
   ]
  },
  {
   "cell_type": "code",
   "execution_count": 39,
   "id": "b86c964f",
   "metadata": {
    "scrolled": false
   },
   "outputs": [
    {
     "data": {
      "text/plain": [
       "['is_return_player',\n",
       " 'register_country_cpi',\n",
       " 'ecpm',\n",
       " 'cpi_country',\n",
       " 'last_login_year',\n",
       " 'login_time_year']"
      ]
     },
     "execution_count": 39,
     "metadata": {},
     "output_type": "execute_result"
    }
   ],
   "source": [
    "constant_feats"
   ]
  },
  {
   "cell_type": "code",
   "execution_count": 40,
   "id": "d8b01dda",
   "metadata": {},
   "outputs": [
    {
     "data": {
      "text/plain": [
       "((755155, 233), (323639, 233))"
      ]
     },
     "execution_count": 40,
     "metadata": {},
     "output_type": "execute_result"
    }
   ],
   "source": [
    "X_train = X_train.drop(columns=constant_feats)\n",
    "X_test = X_test.drop(columns=constant_feats)\n",
    "\n",
    "X_train.shape, X_test.shape"
   ]
  },
  {
   "cell_type": "code",
   "execution_count": 41,
   "id": "189a33b5",
   "metadata": {},
   "outputs": [],
   "source": [
    "X_train_normalized = X_train / X_train.mean()"
   ]
  },
  {
   "cell_type": "code",
   "execution_count": 42,
   "id": "70d937c9",
   "metadata": {},
   "outputs": [
    {
     "data": {
      "text/plain": [
       "Index(['show_timestamp', 'register_time_year', 'last_bankrupt_year',\n",
       "       'first_rank_time_year'],\n",
       "      dtype='object')"
      ]
     },
     "execution_count": 42,
     "metadata": {},
     "output_type": "execute_result"
    }
   ],
   "source": [
    "sel = VarianceThreshold(threshold=0.01)\n",
    "sel.fit(X_train_normalized)\n",
    "quasi_const_feats = X_train.columns[~sel.get_support()]\n",
    "quasi_const_feats"
   ]
  },
  {
   "cell_type": "code",
   "execution_count": 43,
   "id": "35dfc05d",
   "metadata": {},
   "outputs": [
    {
     "data": {
      "text/plain": [
       "((755155, 229), (323639, 229))"
      ]
     },
     "execution_count": 43,
     "metadata": {},
     "output_type": "execute_result"
    }
   ],
   "source": [
    "X_train = X_train.drop(columns=quasi_const_feats)\n",
    "X_test = X_test.drop(columns=quasi_const_feats)\n",
    "\n",
    "X_train.shape, X_test.shape"
   ]
  },
  {
   "cell_type": "markdown",
   "id": "e5cf722a",
   "metadata": {},
   "source": [
    "## 去掉列的值一样的重复特征"
   ]
  },
  {
   "cell_type": "code",
   "execution_count": 44,
   "id": "731967d1",
   "metadata": {},
   "outputs": [],
   "source": [
    "from icecream import ic"
   ]
  },
  {
   "cell_type": "code",
   "execution_count": 48,
   "id": "867ecddc",
   "metadata": {},
   "outputs": [
    {
     "name": "stderr",
     "output_type": "stream",
     "text": [
      "ic| col_1: 'login_cnt_7d'\n",
      "ic| duplicated_feats_for_one_col: ['login_time_7d_cnt']\n",
      "ic| col_1: 'login_cnt_30d'\n",
      "ic| duplicated_feats_for_one_col: ['login_time_30d_cnt']\n",
      "ic| col_1: 'last_piggy_bank_pay_amount'\n",
      "ic| duplicated_feats_for_one_col: ['last_pay_piggy_bank_bundle_amt']\n",
      "ic| duplicated_feats: ['login_time_7d_cnt', 'login_time_30d_cnt', 'last_pay_piggy_bank_bundle_amt']\n"
     ]
    },
    {
     "data": {
      "text/plain": [
       "['login_time_7d_cnt', 'login_time_30d_cnt', 'last_pay_piggy_bank_bundle_amt']"
      ]
     },
     "execution_count": 48,
     "metadata": {},
     "output_type": "execute_result"
    }
   ],
   "source": [
    "duplicated_feats = []\n",
    "duplicated_feats_for_one_col = []\n",
    "for i in range(0, len(X_train.columns)):\n",
    "    duplicated_feats_for_one_col = []\n",
    "    col_1 = X_train.columns[i]\n",
    "    \n",
    "    for col_2 in X_train.columns[i + 1:]:\n",
    "        if X_train[col_1].equals(X_train[col_2]) or X_train[col_1].equals(-1 * X_train[col_2]):\n",
    "            duplicated_feats.append(col_2)\n",
    "            duplicated_feats_for_one_col.append(col_2)\n",
    "    if duplicated_feats_for_one_col:\n",
    "        ic(col_1)\n",
    "        ic(duplicated_feats_for_one_col)\n",
    "\n",
    "ic(duplicated_feats)"
   ]
  },
  {
   "cell_type": "code",
   "execution_count": 49,
   "id": "3a4286c5",
   "metadata": {},
   "outputs": [
    {
     "data": {
      "text/plain": [
       "((755155, 226), (323639, 226))"
      ]
     },
     "execution_count": 49,
     "metadata": {},
     "output_type": "execute_result"
    }
   ],
   "source": [
    "X_train = X_train.drop(columns=duplicated_feats)\n",
    "X_test = X_test.drop(columns=duplicated_feats)\n",
    "\n",
    "X_train.shape, X_test.shape"
   ]
  },
  {
   "cell_type": "code",
   "execution_count": 50,
   "id": "d026b0c0",
   "metadata": {},
   "outputs": [
    {
     "data": {
      "text/plain": [
       "register_os          int64\n",
       "life_time            int64\n",
       "is_latest_version    int64\n",
       "is_pay               int64\n",
       "recency              int64\n",
       "                     ...  \n",
       "login_time_month     int64\n",
       "login_time_day       int64\n",
       "login_time_hour      int64\n",
       "login_time_minute    int64\n",
       "login_time_second    int64\n",
       "Length: 226, dtype: object"
      ]
     },
     "execution_count": 50,
     "metadata": {},
     "output_type": "execute_result"
    }
   ],
   "source": [
    "X_train.dtypes"
   ]
  },
  {
   "cell_type": "code",
   "execution_count": 53,
   "id": "65e8eac3",
   "metadata": {},
   "outputs": [
    {
     "data": {
      "text/plain": [
       "['register_os',\n",
       " 'life_time',\n",
       " 'is_latest_version',\n",
       " 'is_pay',\n",
       " 'recency',\n",
       " 'pay_amt',\n",
       " 'pay_cnt',\n",
       " 'bankrupt_cnt',\n",
       " 'os',\n",
       " 'is_visitor',\n",
       " 'grade',\n",
       " 'vip_lvl',\n",
       " 'battlepass_lvl',\n",
       " 'cash_grade',\n",
       " 'cash_subgrade',\n",
       " 'rank_grade',\n",
       " 'rank_subgrade',\n",
       " 'curr_asset',\n",
       " 'curr_diamond',\n",
       " 'is_bought',\n",
       " 'login_cnt_3d',\n",
       " 'login_cnt_7d',\n",
       " 'login_cnt_15d',\n",
       " 'login_cnt_30d',\n",
       " 'login_days_cnt_3d',\n",
       " 'login_days_cnt_7d',\n",
       " 'login_days_cnt_15d',\n",
       " 'login_days_cnt_30d',\n",
       " 'login_cnt_per_login_day_30d',\n",
       " 'pay_cnt_3d',\n",
       " 'pay_cnt_7d',\n",
       " 'pay_cnt_15d',\n",
       " 'pay_cnt_30d',\n",
       " 'pay_3d',\n",
       " 'pay_7d',\n",
       " 'pay_15d',\n",
       " 'pay_30d',\n",
       " 'piggy_bank_pay_cnt_3d',\n",
       " 'piggy_bank_pay_cnt_7d',\n",
       " 'piggy_bank_pay_cnt_15d',\n",
       " 'piggy_bank_pay_cnt_30d',\n",
       " 'piggy_bank_pay_3d',\n",
       " 'piggy_bank_pay_7d',\n",
       " 'piggy_bank_pay_15d',\n",
       " 'piggy_bank_pay_30d',\n",
       " 'bankrupt_pay_cnt_3d',\n",
       " 'bankrupt_pay_cnt_7d',\n",
       " 'bankrupt_pay_cnt_15d',\n",
       " 'bankrupt_pay_cnt_30d',\n",
       " 'bankrupt_pay_3d',\n",
       " 'bankrupt_pay_7d',\n",
       " 'bankrupt_pay_15d',\n",
       " 'bankrupt_pay_30d',\n",
       " 'convinent_pay_cnt_3d',\n",
       " 'convinent_pay_cnt_7d',\n",
       " 'convinent_pay_cnt_15d',\n",
       " 'convinent_pay_cnt_30d',\n",
       " 'convinent_pay_3d',\n",
       " 'convinent_pay_7d',\n",
       " 'convinent_pay_15d',\n",
       " 'convinent_pay_30d',\n",
       " 'three_stage_bundle_pay_cnt_3d',\n",
       " 'three_stage_bundle_pay_cnt_7d',\n",
       " 'three_stage_bundle_pay_cnt_15d',\n",
       " 'three_stage_bundle_pay_cnt_30d',\n",
       " 'three_stage_bundle_pay_3d',\n",
       " 'three_stage_bundle_pay_7d',\n",
       " 'three_stage_bundle_pay_15d',\n",
       " 'three_stage_bundle_pay_30d',\n",
       " 'lottery_pay_cnt_3d',\n",
       " 'lottery_pay_cnt_7d',\n",
       " 'lottery_pay_cnt_15d',\n",
       " 'lottery_pay_cnt_30d',\n",
       " 'lottery_pay_3d',\n",
       " 'lottery_pay_7d',\n",
       " 'lottery_pay_15d',\n",
       " 'lottery_pay_30d',\n",
       " 'mall_pay_cnt_3d',\n",
       " 'mall_pay_cnt_7d',\n",
       " 'mall_pay_cnt_15d',\n",
       " 'mall_pay_cnt_30d',\n",
       " 'mall_pay_3d',\n",
       " 'mall_pay_7d',\n",
       " 'mall_pay_15d',\n",
       " 'mall_pay_30d',\n",
       " 'period_bundle_pay_cnt_3d',\n",
       " 'period_bundle_pay_cnt_7d',\n",
       " 'period_bundle_pay_cnt_15d',\n",
       " 'period_bundle_pay_cnt_30d',\n",
       " 'period_bundle_pay_3d',\n",
       " 'period_bundle_pay_7d',\n",
       " 'period_bundle_pay_15d',\n",
       " 'period_bundle_pay_30d',\n",
       " 'tier_bundle_pay_cnt_3d',\n",
       " 'tier_bundle_pay_cnt_7d',\n",
       " 'tier_bundle_pay_cnt_15d',\n",
       " 'tier_bundle_pay_cnt_30d',\n",
       " 'tier_bundle_pay_3d',\n",
       " 'tier_bundle_pay_7d',\n",
       " 'tier_bundle_pay_15d',\n",
       " 'tier_bundle_pay_30d',\n",
       " 'is_battle_pass_vip',\n",
       " 'is_newbie_bundle_buyer_30d',\n",
       " 'pay_mean_recent3',\n",
       " 'ads_watch_cnt_1d',\n",
       " 'ads_watch_cnt_3d',\n",
       " 'ads_watch_cnt_7d',\n",
       " 'ads_watch_cnt_15d',\n",
       " 'ads_watch_cnt_30d',\n",
       " 'ads_click_cnt_1d',\n",
       " 'mall_ads_watch_cnt',\n",
       " 'hall_ads_wheel_watch_cnt',\n",
       " 'bankrupt_popup_watch_cnt',\n",
       " 'battle_pass_ads_watch_cnt',\n",
       " 'chip_gain_7d',\n",
       " 'chip_consume_7d',\n",
       " 'chip_consume_rate_7d',\n",
       " 'diamond_gain_7d',\n",
       " 'diamond_consume_7d',\n",
       " 'diamond_consume_rate_7d',\n",
       " 'bandit_gain_7d',\n",
       " 'bandit_consume_7d',\n",
       " 'bandit_cnt_3d',\n",
       " 'bandit_cnt_7d',\n",
       " 'bandit_cnt_15d',\n",
       " 'bandit_cnt_30d',\n",
       " 'all_in_rate_3d',\n",
       " 'all_in_rate_7d',\n",
       " 'all_in_rate_15d',\n",
       " 'all_in_rate_30d',\n",
       " 'check_rate_3d',\n",
       " 'check_rate_7d',\n",
       " 'check_rate_15d',\n",
       " 'check_rate_30d',\n",
       " 'fold_rate_3d',\n",
       " 'fold_rate_7d',\n",
       " 'fold_rate_15d',\n",
       " 'fold_rate_30d',\n",
       " 'raise_rate_3d',\n",
       " 'raise_rate_7d',\n",
       " 'raise_rate_15d',\n",
       " 'raise_rate_30d',\n",
       " 'last_pay_amount',\n",
       " 'last_pay_timestamp',\n",
       " 'last_pay_weekday',\n",
       " 'last_piggy_bank_pay_amount',\n",
       " 'last_piggy_bank_pay_timestamp',\n",
       " 'last_piggy_bank_pay_weekday',\n",
       " 'register_country_arpu',\n",
       " 'arpu_country',\n",
       " 'login_day_cnt',\n",
       " 'last_season_gap_day',\n",
       " 'max_cash_grade',\n",
       " 'max_chip_stock',\n",
       " 'max_blind',\n",
       " 'bankrupt_cnt_3d',\n",
       " 'click_unpay_3d',\n",
       " 'click_unpay_7d',\n",
       " 'click_unpay_15d',\n",
       " 'click_unpay_30d',\n",
       " 'pay_per_day',\n",
       " 'online_time_per_login_7d',\n",
       " 'bandit_cnt_1d',\n",
       " 'bandit_max_1d',\n",
       " 'time_zone',\n",
       " 'last_login_time_hour',\n",
       " 'last_login_gap_day',\n",
       " 'last_pay_bundle_type',\n",
       " 'pay_time_interval_mean_180d',\n",
       " 'pay_interval_last',\n",
       " 'ads_watch_day_mean_3d',\n",
       " 'ads_watch_day_mean_7d',\n",
       " 'ads_watch_day_mean_15d',\n",
       " 'ads_watch_day_mean_30d',\n",
       " 'win_per100',\n",
       " 'active_days_180d',\n",
       " 'cash_cnt_180d',\n",
       " 'active_rate_3d',\n",
       " 'active_rate_7d',\n",
       " 'active_rate_15d',\n",
       " 'active_rate_30d',\n",
       " 'cash_cnt_mean_3d',\n",
       " 'cash_cnt_mean_7d',\n",
       " 'cash_cnt_mean_15d',\n",
       " 'cash_cnt_mean_30d',\n",
       " 'tier_90d',\n",
       " 'sub_tier_90d',\n",
       " 'highest_tier_90d',\n",
       " 'last_pay_period_bundle_timestamp',\n",
       " 'last_pay_three_stage_bundle_timestamp',\n",
       " 'last_pay_lottery_bundle_timestamp',\n",
       " 'last_pay_bankrupt_bundle_timestamp',\n",
       " 'last_pay_period_bundle_amt',\n",
       " 'last_pay_three_stage_bundle_amt',\n",
       " 'last_pay_lottery_bundle_amt',\n",
       " 'last_pay_bankrupt_bundle_amt',\n",
       " 'sblind',\n",
       " 'login_time_hour_list_7d_mean',\n",
       " 'login_time_hour_list_7d_std',\n",
       " 'login_time_hour_list_30d_mean',\n",
       " 'login_time_hour_list_30d_std',\n",
       " 'register_time_month',\n",
       " 'register_time_day',\n",
       " 'register_time_hour',\n",
       " 'register_time_minute',\n",
       " 'register_time_second',\n",
       " 'last_login_month',\n",
       " 'last_login_day',\n",
       " 'last_login_hour',\n",
       " 'last_login_minute',\n",
       " 'last_login_second',\n",
       " 'last_bankrupt_month',\n",
       " 'last_bankrupt_day',\n",
       " 'last_bankrupt_hour',\n",
       " 'last_bankrupt_minute',\n",
       " 'last_bankrupt_second',\n",
       " 'first_rank_time_month',\n",
       " 'first_rank_time_day',\n",
       " 'first_rank_time_hour',\n",
       " 'first_rank_time_minute',\n",
       " 'first_rank_time_second',\n",
       " 'login_time_month',\n",
       " 'login_time_day',\n",
       " 'login_time_hour',\n",
       " 'login_time_minute',\n",
       " 'login_time_second']"
      ]
     },
     "execution_count": 53,
     "metadata": {},
     "output_type": "execute_result"
    }
   ],
   "source": [
    "list(X_train.columns)"
   ]
  },
  {
   "cell_type": "markdown",
   "id": "8579a9f2",
   "metadata": {},
   "source": [
    "## 将数据存入feather文件"
   ]
  },
  {
   "cell_type": "code",
   "execution_count": 51,
   "id": "6915f9df",
   "metadata": {},
   "outputs": [],
   "source": [
    "import feather"
   ]
  },
  {
   "cell_type": "code",
   "execution_count": 52,
   "id": "cdee6b4a",
   "metadata": {},
   "outputs": [],
   "source": [
    "feather.write_dataframe(X_train, \"X_train_cleaned.feather\")\n",
    "feather.write_dataframe(X_test, \"X_test_cleaned.feather\")\n",
    "feather.write_dataframe(y_train.to_frame(), \"y_train_cleaned.feather\")\n",
    "feather.write_dataframe(y_test.to_frame(), \"y_test_cleaned.feather\")"
   ]
  },
  {
   "cell_type": "code",
   "execution_count": null,
   "id": "e0abee68",
   "metadata": {},
   "outputs": [],
   "source": []
  },
  {
   "cell_type": "code",
   "execution_count": null,
   "id": "540d2317",
   "metadata": {},
   "outputs": [],
   "source": []
  }
 ],
 "metadata": {
  "kernelspec": {
   "display_name": "Python [conda env:tf-gpu]",
   "language": "python",
   "name": "conda-env-tf-gpu-py"
  },
  "language_info": {
   "codemirror_mode": {
    "name": "ipython",
    "version": 3
   },
   "file_extension": ".py",
   "mimetype": "text/x-python",
   "name": "python",
   "nbconvert_exporter": "python",
   "pygments_lexer": "ipython3",
   "version": "3.9.11"
  }
 },
 "nbformat": 4,
 "nbformat_minor": 5
}
